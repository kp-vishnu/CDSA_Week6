{
 "cells": [
  {
   "cell_type": "code",
   "execution_count": 1,
   "id": "22218557",
   "metadata": {},
   "outputs": [],
   "source": [
    "import pandas as pd\n",
    "import matplotlib.pyplot as plt\n",
    "import numpy as np\n",
    "import seaborn as sns\n",
    "\n",
    "from sklearn.model_selection import train_test_split\n",
    "from sklearn.metrics import mean_squared_error\n",
    "from sklearn.linear_model import LinearRegression\n",
    "\n",
    "from sklearn.linear_model import LogisticRegression\n",
    "from sklearn.model_selection import train_test_split, cross_val_score\n",
    "from sklearn.metrics import confusion_matrix, accuracy_score, precision_score, recall_score, f1_score\n",
    "\n",
    "from pandas import Series, DataFrame\n",
    "from sklearn.neighbors import KNeighborsClassifier\n",
    "from sklearn.svm import SVC\n",
    "from sklearn.tree import DecisionTreeClassifier\n",
    "from sklearn.ensemble import RandomForestClassifier\n",
    "\n",
    "import warnings             #  disable warning \n",
    "warnings.filterwarnings(\"ignore\")"
   ]
  },
  {
   "cell_type": "code",
   "execution_count": null,
   "id": "e78dcb6c",
   "metadata": {},
   "outputs": [],
   "source": [
    "dataset1['column_name'].value_counts() # do this for target variable."
   ]
  },
  {
   "cell_type": "markdown",
   "id": "58e66d4a",
   "metadata": {},
   "source": [
    " Preprocessing Steps to be done in first dataset"
   ]
  },
  {
   "cell_type": "code",
   "execution_count": null,
   "id": "5adfb0cb",
   "metadata": {},
   "outputs": [],
   "source": [
    "dataset1.dtypes"
   ]
  },
  {
   "cell_type": "code",
   "execution_count": null,
   "id": "4485139b",
   "metadata": {},
   "outputs": [],
   "source": [
    "freqraph = dataset1.select_dtypes(include=['float'])\n",
    "freqraph.hist(figsize=(20,15))\n",
    "plt.show()    # do this again after filling all the null values to see which is skewed."
   ]
  },
  {
   "cell_type": "markdown",
   "id": "df3b8ee8",
   "metadata": {},
   "source": [
    "Handling missing values"
   ]
  },
  {
   "cell_type": "code",
   "execution_count": null,
   "id": "e47915d3",
   "metadata": {},
   "outputs": [],
   "source": [
    "print(': ', dataset1['column_name'].isnull().sum())\n",
    "dataset1['column_name'] = dataset1['column_name'].fillna(dataset1['column_name'].median())\n",
    "dataset1.isna().sum()\n",
    "print('', dataset1['column_name'].isnull().sum())\n",
    "\n",
    "\n",
    "dataset1[\"column_name\"] =dataset1[\"column_name\"].fillna(dataset1[\"column_name\"].mean())\n",
    "dataset1[\"column_name\"] =dataset1[\"column_name\"].fillna(dataset1[\"column_name\"].mean())\n",
    "dataset1[\"column_name\"] =dataset1[\"column_name\"].fillna(dataset1[\"column_name\"].mean())"
   ]
  },
  {
   "cell_type": "code",
   "execution_count": null,
   "id": "46168372",
   "metadata": {},
   "outputs": [],
   "source": [
    "obj_cols = list(dataset1.select_dtypes('object').columns)\n",
    "for o in obj_cols:\n",
    "    dataset1[o].fillna(\"NULL\",inplace = True) # to fill object datatype empty values with null values."
   ]
  },
  {
   "cell_type": "markdown",
   "id": "8430a218",
   "metadata": {},
   "source": [
    "To handle outliers"
   ]
  },
  {
   "cell_type": "code",
   "execution_count": null,
   "id": "14adf195",
   "metadata": {},
   "outputs": [],
   "source": [
    "sns.boxplot(data= dataset1, orient='h')\n",
    "plt.show() # to see the outliers\n",
    "\n",
    "\n",
    "plt.boxplot(dataset1['column_name'])\n",
    "plt.title(' Box plot of column_name');    #to see outliers of single feature\n",
    "\n",
    " "
   ]
  },
  {
   "cell_type": "code",
   "execution_count": null,
   "id": "a41735b7",
   "metadata": {},
   "outputs": [],
   "source": [
    "plt.figure(figsize=(10,5))\n",
    "dataset1.boxplot()\n",
    "plt.xticks(rotation=90) "
   ]
  },
  {
   "cell_type": "markdown",
   "id": "552c1cbe",
   "metadata": {},
   "source": [
    "To handle outliers"
   ]
  },
  {
   "cell_type": "code",
   "execution_count": null,
   "id": "bf34d75b",
   "metadata": {},
   "outputs": [],
   "source": [
    "Q1=np.percentile(dataset1['column_name'], 25, interpolation = 'midpoint')\n",
    "Q2=np.percentile(dataset1['column_name'], 50, interpolation = 'midpoint')\n",
    "Q3=np.percentile(dataset1['column_name'], 75, interpolation = 'midpoint')\n",
    "IQR= Q3 - Q1\n",
    "low_lim = Q1 - 1.5* IQR\n",
    "up_lim = Q3 + 1.5 * IQR\n",
    "Q1 = dataset1['column_name'].quantile(0.25)\n",
    "Q3 = dataset1['column_name'].quantile(0.75)\n",
    "IQR = Q3 - Q1\n",
    "whisker_width = 1.5\n",
    "dataset_of_outliers = dataset1[(dataset1['column_name'] < Q1 - whisker_width*IQR) | (dataset1['column_name'] > Q3 + whisker_width*IQR)]\n",
    "dataset_of_outliers.head()\n"
   ]
  },
  {
   "cell_type": "code",
   "execution_count": null,
   "id": "ac218022",
   "metadata": {},
   "outputs": [],
   "source": [
    "outlier = []\n",
    "for x in dataset1['annual_income']:\n",
    "    if((x>up_lim) or (x<low_lim)):\n",
    "        outlier.append(x)   #to append all the outliers to a list"
   ]
  },
  {
   "cell_type": "code",
   "execution_count": null,
   "id": "844bea26",
   "metadata": {},
   "outputs": [],
   "source": [
    "dataset1['column_name'].hist(); #check to see if the histogram is normally distributed or skewed"
   ]
  },
  {
   "cell_type": "code",
   "execution_count": null,
   "id": "aacb4acf",
   "metadata": {},
   "outputs": [],
   "source": [
    "print('skewness value of column_name: ',dataset1['column_name'].skew())"
   ]
  },
  {
   "cell_type": "code",
   "execution_count": null,
   "id": "e76b3c39",
   "metadata": {},
   "outputs": [],
   "source": [
    "Q1 = dataset1['column_name'].quantile(0.25)\n",
    "Q3 = dataset1['column_name'].quantile(0.75)\n",
    "IQR = Q3 - Q1\n",
    "whisker_width = 1.5\n",
    "lower_whisker = Q1 -(whisker_width*IQR)\n",
    "upper_whisker = Q3 + (whisker_width*IQR)\n",
    "x=dataset1['column_name'].median()\n",
    "dataset1['column_name']=np.where(dataset1['column_name']>upper_whisker,x,np.where(dataset1['column_name']<lower_whisker,x,dataset1['column_name']))\n",
    "# code to replace outliers with mean/median/mode"
   ]
  },
  {
   "cell_type": "markdown",
   "id": "655480c6",
   "metadata": {},
   "source": [
    "if a dataset is given for testing, make sure that it is also preprocessed."
   ]
  },
  {
   "cell_type": "markdown",
   "id": "1108baf4",
   "metadata": {},
   "source": [
    "Using labelencoder to encode the data"
   ]
  },
  {
   "cell_type": "code",
   "execution_count": null,
   "id": "3a7916fb",
   "metadata": {},
   "outputs": [],
   "source": [
    "from sklearn.preprocessing import LabelEncoder\n",
    "le=LabelEncoder()\n",
    "dataset1[\"column_name\"] = le.fit_transform(dataset1[\"column_name\"])\n",
    "dataset1.head()"
   ]
  },
  {
   "cell_type": "code",
   "execution_count": null,
   "id": "c0410719",
   "metadata": {},
   "outputs": [],
   "source": [
    "dataset1.dtypes   #check for the datatypes and convert the rest of the object datatype columns using label encoder."
   ]
  },
  {
   "cell_type": "code",
   "execution_count": null,
   "id": "e76938cf",
   "metadata": {},
   "outputs": [],
   "source": [
    "dataset1.drop(columns=(['column_name','column_name']), axis=1, inplace=True)\n",
    "dataset1.head() #to drop unwanted values"
   ]
  },
  {
   "cell_type": "markdown",
   "id": "b3a9d519",
   "metadata": {},
   "source": [
    "do similar label encoding on dataset given for testing."
   ]
  },
  {
   "cell_type": "markdown",
   "id": "dfaeb381",
   "metadata": {},
   "source": [
    "model"
   ]
  },
  {
   "cell_type": "code",
   "execution_count": null,
   "id": "5bcf1c00",
   "metadata": {},
   "outputs": [],
   "source": [
    "X = dataset1.drop('target',axis = 1)\n",
    "y = dataset1['target']\n",
    "\n",
    "X_train, X_test, y_train, y_test = train_test_split(X, y, test_size=0.2, random_state = 42)\n",
    "lr = LinearRegression()\n",
    "model = lr.fit(X_train, y_train)\n",
    "predictions = model.predict(X_test)"
   ]
  },
  {
   "cell_type": "code",
   "execution_count": null,
   "id": "da817bc4",
   "metadata": {},
   "outputs": [],
   "source": [
    "mean_squared_error(y_test, predictions, squared = False)\n",
    "predictions.mean()"
   ]
  },
  {
   "cell_type": "code",
   "execution_count": null,
   "id": "9c4ed8be",
   "metadata": {},
   "outputs": [],
   "source": [
    "log_reg = LogisticRegression()\n",
    "model = log_reg.fit(X_train, y_train)\n",
    "y_pred=log_reg.predict(X_test) #logistic regression"
   ]
  },
  {
   "cell_type": "code",
   "execution_count": null,
   "id": "a49c5369",
   "metadata": {},
   "outputs": [],
   "source": [
    "print('Accuracy of Logistic Regression model is :',accuracy_score(y_test,y_pred)*100)\n",
    "print(\"Precision is :\",precision_score(y_test,y_pred,average='weighted'))\n",
    "print(\"Recall is : \",recall_score(y_test,y_pred,average='weighted'))\n",
    "print(\"F1 Score is :\",f1_score(y_test,y_pred,average='weighted'))"
   ]
  },
  {
   "cell_type": "code",
   "execution_count": null,
   "id": "f9e9924b",
   "metadata": {},
   "outputs": [],
   "source": [
    "confusion_matrix(y_test,y_pred)"
   ]
  },
  {
   "cell_type": "code",
   "execution_count": null,
   "id": "42f61057",
   "metadata": {},
   "outputs": [],
   "source": [
    "mean_squared_error(y_test, y_pred, squared = False)"
   ]
  },
  {
   "cell_type": "code",
   "execution_count": null,
   "id": "b7d4c900",
   "metadata": {},
   "outputs": [],
   "source": [
    "model = KNeighborsClassifier(n_neighbors=3) \n",
    "model.fit(X_train,y_train)\n",
    "prediction = model.predict(X_test)\n"
   ]
  },
  {
   "cell_type": "code",
   "execution_count": null,
   "id": "fe31b73f",
   "metadata": {},
   "outputs": [],
   "source": [
    "print('The accuracy of KNN model is : ', accuracy_score(prediction,y_test)*100)\n",
    "print(\"Precision is : \",precision_score(prediction,y_test,average = 'weighted'))\n",
    "print(\"Recall is : \",recall_score(prediction,y_test,average = 'weighted'))\n",
    "print(\"F1 Score is : \",f1_score(prediction,y_test,average ='weighted'))"
   ]
  },
  {
   "cell_type": "code",
   "execution_count": null,
   "id": "da328d12",
   "metadata": {},
   "outputs": [],
   "source": [
    "mean_squared_error(y_test, prediction, squared = False)"
   ]
  },
  {
   "cell_type": "code",
   "execution_count": null,
   "id": "65f15303",
   "metadata": {},
   "outputs": [],
   "source": [
    "confusion_matrix(prediction,y_test)"
   ]
  },
  {
   "cell_type": "code",
   "execution_count": null,
   "id": "946a1295",
   "metadata": {},
   "outputs": [],
   "source": [
    "rnf = RandomForestClassifier(n_estimators=100)\n",
    "rnf_model = rnf.fit(X_train, y_train)\n",
    "rnf_predict = rnf_model.predict(X_test)"
   ]
  },
  {
   "cell_type": "code",
   "execution_count": null,
   "id": "63ecdda9",
   "metadata": {},
   "outputs": [],
   "source": [
    "rnf.fit(X_train,y_train)"
   ]
  },
  {
   "cell_type": "code",
   "execution_count": null,
   "id": "e96c61dc",
   "metadata": {},
   "outputs": [],
   "source": [
    "rnf_predict=rnf.predict(X_test)\n",
    "f1_score(y_test,rnf_predict,average='weighted')"
   ]
  },
  {
   "cell_type": "code",
   "execution_count": null,
   "id": "913a4bd4",
   "metadata": {},
   "outputs": [],
   "source": [
    "print('Accuracy of Random Forest model is : ',accuracy_score(rnf_predict, y_test) *100)\n",
    "print(\"Precision is : \",precision_score(rnf_predict,y_test,average = 'weighted'))\n",
    "print(\"Recall is : \",recall_score(rnf_predict,y_test,average = 'weighted'))\n",
    "print(\"F1 Score is : \",f1_score(rnf_predict,y_test,average ='weighted'))"
   ]
  },
  {
   "cell_type": "code",
   "execution_count": null,
   "id": "e7c9011b",
   "metadata": {},
   "outputs": [],
   "source": [
    "mean_squared_error(y_test, rnf_predict, squared = False)"
   ]
  },
  {
   "cell_type": "code",
   "execution_count": null,
   "id": "e64a164b",
   "metadata": {},
   "outputs": [],
   "source": [
    "dtree = DecisionTreeClassifier()\n",
    "dtree_model = dtree.fit(X_train, y_train)\n",
    "dtree_predict = dtree.predict(X_test)"
   ]
  },
  {
   "cell_type": "code",
   "execution_count": null,
   "id": "0560bd89",
   "metadata": {},
   "outputs": [],
   "source": [
    "print('Accuracy of Decision Tree model is : ', accuracy_score(dtree_predict, y_test)*100)\n",
    "print(\"Precision is : \",precision_score(dtree_predict,y_test,average = 'weighted'))\n",
    "print(\"Recall is : \",recall_score(dtree_predict,y_test,average = 'weighted'))\n",
    "print(\"F1 Score is : \",f1_score(dtree_predict,y_test,average ='weighted'))"
   ]
  },
  {
   "cell_type": "code",
   "execution_count": null,
   "id": "ffdc8ac6",
   "metadata": {},
   "outputs": [],
   "source": [
    "mean_squared_error(y_test, dtree_predict, squared = False)"
   ]
  },
  {
   "cell_type": "code",
   "execution_count": null,
   "id": "fb743935",
   "metadata": {},
   "outputs": [],
   "source": [
    "confusion_matrix(y_test,dtree_predict)"
   ]
  },
  {
   "cell_type": "code",
   "execution_count": null,
   "id": "210d7b28",
   "metadata": {},
   "outputs": [],
   "source": []
  },
  {
   "cell_type": "code",
   "execution_count": null,
   "id": "597590b2",
   "metadata": {},
   "outputs": [],
   "source": [
    "rnf_predict.mean() #choose the model which is best"
   ]
  },
  {
   "cell_type": "code",
   "execution_count": null,
   "id": "7da4f648",
   "metadata": {},
   "outputs": [],
   "source": [
    "rnf_predict"
   ]
  },
  {
   "cell_type": "code",
   "execution_count": null,
   "id": "98e0a092",
   "metadata": {},
   "outputs": [],
   "source": [
    "predict = pd.DataFrame(rnf_predict, columns = ['vehicle_choice'], index = y_test.index)"
   ]
  },
  {
   "cell_type": "code",
   "execution_count": null,
   "id": "3754edac",
   "metadata": {},
   "outputs": [],
   "source": [
    "predict.shape"
   ]
  },
  {
   "cell_type": "code",
   "execution_count": null,
   "id": "c03e7cb0",
   "metadata": {},
   "outputs": [],
   "source": [
    "final_model = rnf.fit(X,y)"
   ]
  },
  {
   "cell_type": "code",
   "execution_count": null,
   "id": "bd73dedf",
   "metadata": {},
   "outputs": [],
   "source": [
    "predict.to_csv(r'give the path/sample_submission.csv', index=False)"
   ]
  },
  {
   "cell_type": "code",
   "execution_count": null,
   "id": "c3696c65",
   "metadata": {},
   "outputs": [],
   "source": [
    "X1 = df            ## assign the test dataset to a variable X1\n",
    "X1"
   ]
  },
  {
   "cell_type": "code",
   "execution_count": null,
   "id": "c2c8b6ab",
   "metadata": {},
   "outputs": [],
   "source": [
    "predict.to_csv('submission.csv', index=False)"
   ]
  },
  {
   "cell_type": "code",
   "execution_count": null,
   "id": "2c34c0a4",
   "metadata": {},
   "outputs": [],
   "source": [
    "submission = pd.read_csv(r'give the path/sample_submission.csv')"
   ]
  },
  {
   "cell_type": "code",
   "execution_count": null,
   "id": "5650b535",
   "metadata": {},
   "outputs": [],
   "source": [
    "submission"
   ]
  },
  {
   "cell_type": "code",
   "execution_count": null,
   "id": "9228a365",
   "metadata": {},
   "outputs": [],
   "source": [
    "## Seperating the X values:\n",
    "\n",
    "X1=df.iloc[:,[0,11]].values     # id is a general number given to each row, so it is not a feature variable of each \n",
    "\n",
    "X1"
   ]
  },
  {
   "cell_type": "code",
   "execution_count": null,
   "id": "98195f10",
   "metadata": {},
   "outputs": [],
   "source": [
    "X1 = df.copy(deep=True)"
   ]
  },
  {
   "cell_type": "code",
   "execution_count": null,
   "id": "763b6051",
   "metadata": {},
   "outputs": [],
   "source": [
    "## Scaling the data using standard scalar \n",
    "\n",
    "from sklearn.preprocessing import StandardScaler\n",
    "scale = StandardScaler()\n",
    "X1 = scale.fit_transform(X1)"
   ]
  },
  {
   "cell_type": "code",
   "execution_count": null,
   "id": "0d20029c",
   "metadata": {},
   "outputs": [],
   "source": [
    "## Checking the variables are stored in X or not and to know the values/variables loaded into the memory.\n",
    "\n",
    "%whos"
   ]
  },
  {
   "cell_type": "code",
   "execution_count": null,
   "id": "9f225d1f",
   "metadata": {},
   "outputs": [],
   "source": [
    "predict.to_csv('submission.csv', index=False)"
   ]
  },
  {
   "cell_type": "code",
   "execution_count": null,
   "id": "a0773a65",
   "metadata": {},
   "outputs": [],
   "source": [
    "submission = pd.read_csv(r'path\\sample_submission.csv')"
   ]
  },
  {
   "cell_type": "code",
   "execution_count": null,
   "id": "a212e3e8",
   "metadata": {},
   "outputs": [],
   "source": [
    "submission"
   ]
  },
  {
   "cell_type": "code",
   "execution_count": null,
   "id": "00e52b0a",
   "metadata": {},
   "outputs": [],
   "source": [
    "submission=pd.DataFrame(dataset1.groupby(\"CustomerID\")['vehicle_choice'].median())\n",
    "submission.reset_index()"
   ]
  },
  {
   "cell_type": "code",
   "execution_count": null,
   "id": "0a1b5941",
   "metadata": {},
   "outputs": [],
   "source": []
  }
 ],
 "metadata": {
  "kernelspec": {
   "display_name": "Python 3 (ipykernel)",
   "language": "python",
   "name": "python3"
  },
  "language_info": {
   "codemirror_mode": {
    "name": "ipython",
    "version": 3
   },
   "file_extension": ".py",
   "mimetype": "text/x-python",
   "name": "python",
   "nbconvert_exporter": "python",
   "pygments_lexer": "ipython3",
   "version": "3.9.7"
  }
 },
 "nbformat": 4,
 "nbformat_minor": 5
}
